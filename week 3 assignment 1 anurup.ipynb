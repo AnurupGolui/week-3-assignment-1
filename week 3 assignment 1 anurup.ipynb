{
 "cells": [
  {
   "cell_type": "code",
   "execution_count": null,
   "id": "dfb7518d-1f53-40e0-b4c8-25546a134edb",
   "metadata": {},
   "outputs": [],
   "source": [
    "Q1. Which keyword is used to create a function? Create a function to return a list of odd numbers in the \n",
    "range of 1 to 25."
   ]
  },
  {
   "cell_type": "code",
   "execution_count": null,
   "id": "d67b762d-45ec-4ea1-ab52-788dd2985810",
   "metadata": {},
   "outputs": [],
   "source": [
    "'def' keyword is use to create a function."
   ]
  },
  {
   "cell_type": "code",
   "execution_count": 1,
   "id": "e38b7904-0e65-4984-aee6-f38a797fc272",
   "metadata": {},
   "outputs": [],
   "source": [
    "def odd():\n",
    "    \"\"\" return a list of odd numbers in the range of 1 to 25.\"\"\"\n",
    "    l=[]\n",
    "    for i in range (1,26):            \n",
    "        if i%2!=0:\n",
    "            l.append(i)\n",
    "    return l"
   ]
  },
  {
   "cell_type": "code",
   "execution_count": 2,
   "id": "3cad0b46-a3b0-4e85-9004-92a5bbfaad27",
   "metadata": {},
   "outputs": [
    {
     "name": "stdout",
     "output_type": "stream",
     "text": [
      "1\n",
      "3\n",
      "5\n",
      "7\n",
      "9\n",
      "11\n",
      "13\n",
      "15\n",
      "17\n",
      "19\n",
      "21\n",
      "23\n",
      "25\n"
     ]
    }
   ],
   "source": [
    "for i in odd():\n",
    "    print (i)"
   ]
  },
  {
   "cell_type": "code",
   "execution_count": null,
   "id": "369f6a98-7917-4233-8355-a7a0d9bda7ea",
   "metadata": {},
   "outputs": [],
   "source": [
    "Q2. Why *args and **kwargs is used in some functions? Create a function each for *args and **kwargs \n",
    "to demonstrate their use."
   ]
  },
  {
   "cell_type": "code",
   "execution_count": null,
   "id": "e309462c-c42a-4c78-9acc-68f63a2cc25a",
   "metadata": {},
   "outputs": [],
   "source": [
    "we can use *args and **kwargs as arguments of a function when we are unsure about the number of arguments to pass in \n",
    "the functions."
   ]
  },
  {
   "cell_type": "code",
   "execution_count": 3,
   "id": "1cb8fba6-dea7-406f-9b04-181e64f3e217",
   "metadata": {},
   "outputs": [],
   "source": [
    "# Example of *args\n",
    "def test1(*args):\n",
    "    return args"
   ]
  },
  {
   "cell_type": "code",
   "execution_count": 4,
   "id": "2508f92d-2e21-4954-88c8-38b75dd200a1",
   "metadata": {},
   "outputs": [
    {
     "data": {
      "text/plain": [
       "(8, 40, 4.0)"
      ]
     },
     "execution_count": 4,
     "metadata": {},
     "output_type": "execute_result"
    }
   ],
   "source": [
    "test1(3+5,5*8,8/2)"
   ]
  },
  {
   "cell_type": "code",
   "execution_count": 5,
   "id": "d17f59b2-ab5f-4fc6-92ff-c6e37115317a",
   "metadata": {},
   "outputs": [],
   "source": [
    "# Example of **kwargs helps to create dict\n",
    "def test2(**kwargs):\n",
    "    return kwargs"
   ]
  },
  {
   "cell_type": "code",
   "execution_count": 6,
   "id": "2d297bcd-6274-4927-bbd0-19668953e513",
   "metadata": {},
   "outputs": [
    {
     "data": {
      "text/plain": [
       "{'a': 'joy', 'b': 16}"
      ]
     },
     "execution_count": 6,
     "metadata": {},
     "output_type": "execute_result"
    }
   ],
   "source": [
    "test2(a='joy',b=16)   "
   ]
  },
  {
   "cell_type": "code",
   "execution_count": null,
   "id": "7b015f59-8b6e-425f-b0ab-9ca95e8932cc",
   "metadata": {},
   "outputs": [],
   "source": [
    "Q3.  What is an iterator in python? Name the method used to initialise the iterator object and the method \n",
    "used for iteration. Use these methods to print the first five elements of the given list [2, 4, 6, 8, 10, 12, 14, \n",
    "16, 18, 20]."
   ]
  },
  {
   "cell_type": "code",
   "execution_count": null,
   "id": "675fc3f1-9ff8-4f5e-bf7f-9ffc7cdb94d8",
   "metadata": {},
   "outputs": [],
   "source": [
    "In Python, an iterator is an object that allows you to iterate over collections of data, such as lists, tuples, dictionaries,\n",
    "and sets. \n",
    "Iter() method is used to initialize the iterator object and uses next() method for iteration."
   ]
  },
  {
   "cell_type": "code",
   "execution_count": 7,
   "id": "4a23d56a-7f84-40ec-8c8f-be59db7c0294",
   "metadata": {},
   "outputs": [
    {
     "data": {
      "text/plain": [
       "2"
      ]
     },
     "execution_count": 7,
     "metadata": {},
     "output_type": "execute_result"
    }
   ],
   "source": [
    "l=[2, 4, 6, 8, 10, 12, 14, 16, 18, 20]\n",
    "l1=iter(l)\n",
    "next(l1)"
   ]
  },
  {
   "cell_type": "code",
   "execution_count": 8,
   "id": "7a88ee18-3348-44f8-a5ef-9333ea953c1e",
   "metadata": {},
   "outputs": [
    {
     "data": {
      "text/plain": [
       "4"
      ]
     },
     "execution_count": 8,
     "metadata": {},
     "output_type": "execute_result"
    }
   ],
   "source": [
    "next(l1)"
   ]
  },
  {
   "cell_type": "code",
   "execution_count": 9,
   "id": "c3d87cf7-0357-492c-b05a-4052c64e1bc9",
   "metadata": {},
   "outputs": [
    {
     "data": {
      "text/plain": [
       "6"
      ]
     },
     "execution_count": 9,
     "metadata": {},
     "output_type": "execute_result"
    }
   ],
   "source": [
    "next(l1)"
   ]
  },
  {
   "cell_type": "code",
   "execution_count": 10,
   "id": "7ee1dce5-27f0-4b91-9b60-711ea29ad54b",
   "metadata": {},
   "outputs": [
    {
     "data": {
      "text/plain": [
       "8"
      ]
     },
     "execution_count": 10,
     "metadata": {},
     "output_type": "execute_result"
    }
   ],
   "source": [
    "next(l1)"
   ]
  },
  {
   "cell_type": "code",
   "execution_count": 11,
   "id": "f18808cc-9232-4d4d-a072-187653e9ec11",
   "metadata": {},
   "outputs": [
    {
     "data": {
      "text/plain": [
       "10"
      ]
     },
     "execution_count": 11,
     "metadata": {},
     "output_type": "execute_result"
    }
   ],
   "source": [
    "next(l1)"
   ]
  },
  {
   "cell_type": "code",
   "execution_count": null,
   "id": "ad3b2cad-ba14-471c-9b6c-7dc815392a34",
   "metadata": {},
   "outputs": [],
   "source": [
    "Q4.  What is a generator function in python? Why yield keyword is used? Give an example of a generator \n",
    "function."
   ]
  },
  {
   "cell_type": "code",
   "execution_count": null,
   "id": "8000e511-7187-43db-a9a1-c6d7fe7c6b35",
   "metadata": {},
   "outputs": [],
   "source": [
    "A Python generator function allows you to declare a function that behaves like an iterator, providing a faster and easier way\n",
    "to create iterators.\n",
    "The yield keyword will convert an expression that is specified along with it to a generator object and return it to the caller."
   ]
  },
  {
   "cell_type": "code",
   "execution_count": 12,
   "id": "9ab036cb-9dad-459b-96e0-0cc709851062",
   "metadata": {},
   "outputs": [],
   "source": [
    "def count_num():\n",
    "    count=1\n",
    "    while count<=5:\n",
    "        yield count\n",
    "        count+=1"
   ]
  },
  {
   "cell_type": "code",
   "execution_count": 13,
   "id": "cdc2cc41-1429-4cd2-822a-6d90c581e050",
   "metadata": {},
   "outputs": [
    {
     "name": "stdout",
     "output_type": "stream",
     "text": [
      "1\n",
      "2\n",
      "3\n",
      "4\n",
      "5\n"
     ]
    }
   ],
   "source": [
    "for i in count_num():\n",
    "    print(i)"
   ]
  },
  {
   "cell_type": "code",
   "execution_count": null,
   "id": "93c1e083-5589-4588-9ecc-a069aafc5905",
   "metadata": {},
   "outputs": [],
   "source": [
    "Q5. Create a generator function for prime numbers less than 1000. Use the next() method to print the \n",
    "first 20 prime numbers."
   ]
  },
  {
   "cell_type": "code",
   "execution_count": 14,
   "id": "101cae56-ec38-4ca5-9da1-e74a965bb12b",
   "metadata": {},
   "outputs": [],
   "source": [
    "def prime():\n",
    "    num=1\n",
    "    while num<1000:\n",
    "        yield num\n",
    "        num=num+1\n",
    "prime_number=prime()"
   ]
  },
  {
   "cell_type": "code",
   "execution_count": 15,
   "id": "68f9fa9c-be01-4775-8594-2110750e7374",
   "metadata": {},
   "outputs": [
    {
     "name": "stdout",
     "output_type": "stream",
     "text": [
      "1\n",
      "2\n",
      "3\n",
      "4\n",
      "5\n",
      "6\n",
      "7\n",
      "8\n",
      "9\n",
      "10\n",
      "11\n",
      "12\n",
      "13\n",
      "14\n",
      "15\n",
      "16\n",
      "17\n",
      "18\n",
      "19\n",
      "20\n"
     ]
    }
   ],
   "source": [
    "for i in range (20):\n",
    "    print(next(prime_number))"
   ]
  },
  {
   "cell_type": "code",
   "execution_count": null,
   "id": "47cf2ef0-0082-45f5-89b8-63941a4c9534",
   "metadata": {},
   "outputs": [],
   "source": [
    "Q6. Write a python program to print the first 10 Fibonacci numbers using a while loop."
   ]
  },
  {
   "cell_type": "code",
   "execution_count": 16,
   "id": "0f08b21e-3e3c-44d3-9c5c-7e70bf496a52",
   "metadata": {},
   "outputs": [],
   "source": [
    "def fib():\n",
    "    a,b=0,1\n",
    "    while True:\n",
    "        yield a\n",
    "        a,b=b,a+b\n",
    "test_fib1=fib()"
   ]
  },
  {
   "cell_type": "code",
   "execution_count": 17,
   "id": "e8a428a1-e731-4c5c-a46c-0ed41fa636ab",
   "metadata": {},
   "outputs": [
    {
     "name": "stdout",
     "output_type": "stream",
     "text": [
      "0\n",
      "1\n",
      "1\n",
      "2\n",
      "3\n",
      "5\n",
      "8\n",
      "13\n",
      "21\n",
      "34\n"
     ]
    }
   ],
   "source": [
    "for i in range (10):\n",
    "    print(next(test_fib1))"
   ]
  },
  {
   "cell_type": "code",
   "execution_count": null,
   "id": "968d5906-1358-4b15-915e-807257a65b96",
   "metadata": {},
   "outputs": [],
   "source": [
    "Q7. Write a List Comprehension to iterate through the given string: ‘pwskills’.\n",
    " Expected output: ['p', 'w', 's', 'k', 'i', 'l', 'l', 's'] "
   ]
  },
  {
   "cell_type": "code",
   "execution_count": 18,
   "id": "5a434d08-ff18-46b9-88ec-bd9cdbfd60ab",
   "metadata": {},
   "outputs": [
    {
     "data": {
      "text/plain": [
       "['p', 'w', 's', 'k', 'i', 'l', 'l', 's']"
      ]
     },
     "execution_count": 18,
     "metadata": {},
     "output_type": "execute_result"
    }
   ],
   "source": [
    "s='pwskills'\n",
    "list(map(lambda x:x,s))"
   ]
  },
  {
   "cell_type": "code",
   "execution_count": null,
   "id": "57415ae8-ba7f-4e52-a06b-5f1f9f05c7d2",
   "metadata": {},
   "outputs": [],
   "source": [
    "Q8. Write a python program to check whether a given number is Palindrome or not using a while loop."
   ]
  },
  {
   "cell_type": "code",
   "execution_count": 23,
   "id": "c51bbb5b-3f23-4fbe-a9dd-f258b95cae5e",
   "metadata": {},
   "outputs": [],
   "source": [
    "def check_pali(a):\n",
    "    a=str(a)\n",
    "    while a==a[::-1]:\n",
    "        return 'Yes the number is palindrome'\n",
    "    else:\n",
    "        return'No the number is not palidrome'\n",
    "        "
   ]
  },
  {
   "cell_type": "code",
   "execution_count": 24,
   "id": "6b88fee9-7652-4228-a64c-4e2849aa6c8f",
   "metadata": {},
   "outputs": [
    {
     "data": {
      "text/plain": [
       "'Yes the number is palindrome'"
      ]
     },
     "execution_count": 24,
     "metadata": {},
     "output_type": "execute_result"
    }
   ],
   "source": [
    "check_pali(121)"
   ]
  },
  {
   "cell_type": "code",
   "execution_count": 25,
   "id": "e8883962-77d6-44f4-8cab-86c72be226bc",
   "metadata": {},
   "outputs": [
    {
     "data": {
      "text/plain": [
       "'No the number is not palidrome'"
      ]
     },
     "execution_count": 25,
     "metadata": {},
     "output_type": "execute_result"
    }
   ],
   "source": [
    "check_pali(125)"
   ]
  },
  {
   "cell_type": "code",
   "execution_count": null,
   "id": "26882bf6-9d6c-4f5f-8771-c78732c9023d",
   "metadata": {},
   "outputs": [],
   "source": [
    "Q9. Write a code to print odd numbers from 1 to 100 using list comprehension."
   ]
  },
  {
   "cell_type": "code",
   "execution_count": 28,
   "id": "63ff605b-8312-4a04-9c07-2bce424410af",
   "metadata": {},
   "outputs": [
    {
     "name": "stdout",
     "output_type": "stream",
     "text": [
      "list of 1 to 100 [1, 2, 3, 4, 5, 6, 7, 8, 9, 10, 11, 12, 13, 14, 15, 16, 17, 18, 19, 20, 21, 22, 23, 24, 25, 26, 27, 28, 29, 30, 31, 32, 33, 34, 35, 36, 37, 38, 39, 40, 41, 42, 43, 44, 45, 46, 47, 48, 49, 50, 51, 52, 53, 54, 55, 56, 57, 58, 59, 60, 61, 62, 63, 64, 65, 66, 67, 68, 69, 70, 71, 72, 73, 74, 75, 76, 77, 78, 79, 80, 81, 82, 83, 84, 85, 86, 87, 88, 89, 90, 91, 92, 93, 94, 95, 96, 97, 98, 99, 100]\n",
      "list of odd numbers 1 to 100 [2, 4, 6, 8, 10, 12, 14, 16, 18, 20, 22, 24, 26, 28, 30, 32, 34, 36, 38, 40, 42, 44, 46, 48, 50, 52, 54, 56, 58, 60, 62, 64, 66, 68, 70, 72, 74, 76, 78, 80, 82, 84, 86, 88, 90, 92, 94, 96, 98, 100]\n"
     ]
    }
   ],
   "source": [
    "l= range(1,101)\n",
    "a=list(l)\n",
    "b=list(filter(lambda x:x%2==0,a))\n",
    "print('list of 1 to 100',a)\n",
    "print('list of odd numbers 1 to 100',b)\n"
   ]
  },
  {
   "cell_type": "code",
   "execution_count": null,
   "id": "71c6f9a4-650d-45ef-a997-00f4b11220bf",
   "metadata": {},
   "outputs": [],
   "source": []
  },
  {
   "cell_type": "code",
   "execution_count": null,
   "id": "baa835ab-c58e-45ff-a801-c4a426a4b358",
   "metadata": {},
   "outputs": [],
   "source": []
  }
 ],
 "metadata": {
  "kernelspec": {
   "display_name": "Python 3 (ipykernel)",
   "language": "python",
   "name": "python3"
  },
  "language_info": {
   "codemirror_mode": {
    "name": "ipython",
    "version": 3
   },
   "file_extension": ".py",
   "mimetype": "text/x-python",
   "name": "python",
   "nbconvert_exporter": "python",
   "pygments_lexer": "ipython3",
   "version": "3.10.8"
  }
 },
 "nbformat": 4,
 "nbformat_minor": 5
}
